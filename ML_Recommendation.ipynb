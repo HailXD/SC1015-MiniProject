{
 "cells": [
  {
   "cell_type": "markdown",
   "id": "5ecf256d",
   "metadata": {},
   "source": [
    "## ML Recommendations\n",
    "This notebook implements and evaluates the two different recommendation systems based on the recommendations we found in the EDA.ipynb.\n",
    "\n",
    "In summary, those are\n",
    "\n",
    "Model 1: TF-IDF + Cosine Similarity (Content-based)\n",
    "\n",
    "Content-based approach that focuses purely on similarity of game descriptions ('About the game')\n",
    "\n",
    "Model 2: K-Nearest Neighbors (KNN) on Combined Features (Hybrid)\n",
    "\n",
    "A hybrid approach that considers text, numerical and categorical features to find similar games\n",
    "\n",
    "(More detailed descripion in EDA.ipynb)"
   ]
  },
  {
   "cell_type": "code",
   "execution_count": 1,
   "metadata": {},
   "outputs": [],
   "source": [
    "import pandas as pd\n",
    "import numpy as np\n",
    "from sklearn.feature_extraction.text import TfidfVectorizer\n",
    "from sklearn.metrics.pairwise import cosine_similarity\n",
    "from sklearn.neighbors import NearestNeighbors\n",
    "from sklearn.preprocessing import MinMaxScaler # Choose one for scaling\n",
    "from scipy.sparse import hstack, csr_matrix"
   ]
  },
  {
   "cell_type": "code",
   "execution_count": 2,
   "metadata": {},
   "outputs": [
    {
     "name": "stdout",
     "output_type": "stream",
     "text": [
      "Sample names: ['Sledders']\n"
     ]
    }
   ],
   "source": [
    "df = pd.read_csv(\"Dataset/games_eda.csv\")\n",
    "\n",
    "print(\"Sample names:\", df['Name'].sample().tolist())"
   ]
  },
  {
   "cell_type": "markdown",
   "metadata": {},
   "source": [
    "### Create a mapping from game name to index for easy lookup"
   ]
  },
  {
   "cell_type": "code",
   "execution_count": 3,
   "metadata": {},
   "outputs": [
    {
     "name": "stdout",
     "output_type": "stream",
     "text": [
      "Number of unique game names: 22066\n"
     ]
    }
   ],
   "source": [
    "df_unique_names = df.drop_duplicates(subset=['Name'], keep='first') # Handle potential duplicate names by keeping the first occurrence\n",
    "indices = pd.Series(df_unique_names.index, index=df_unique_names['Name'])\n",
    "\n",
    "print(f\"Number of unique game names: {len(indices)}\")"
   ]
  },
  {
   "cell_type": "markdown",
   "metadata": {},
   "source": [
    "### Model 1: TF-IDF + Cosine Similarity"
   ]
  },
  {
   "cell_type": "markdown",
   "metadata": {},
   "source": [
    "Select text from the game descriptions in 'About the game' and handle missing values with empty strings to ensure vectorizer can process all rows."
   ]
  },
  {
   "cell_type": "code",
   "execution_count": 4,
   "id": "6ba36780",
   "metadata": {},
   "outputs": [],
   "source": [
    "corpus = df['About the game'].fillna('') # Fill NaN values with empty strings"
   ]
  },
  {
   "cell_type": "markdown",
   "metadata": {},
   "source": [
    "We use the TfidfVectorizer from scikit-learn to convert the raw text descriptions into matrix of TTF-IDF features\n",
    "\n",
    "What is TF-IDF (Term Frequency-Inverse Document Frequency)?\n",
    "\n",
    "It's a technique to reflect how important a word is to a document in a collection. It increases proportionally to the number of time it appears in a document but offsetted by the frequence of the word in the corpus."
   ]
  },
  {
   "cell_type": "code",
   "execution_count": 5,
   "metadata": {},
   "outputs": [
    {
     "name": "stdout",
     "output_type": "stream",
     "text": [
      "TF-IDF matrix shape: (22105, 89540)\n"
     ]
    }
   ],
   "source": [
    "# Use stop_words='english' to remove common English words\n",
    "# max_df=0.8 -> ignore terms that appear in more than 80% of the documents\n",
    "# min_df=5   -> ignore terms that appear in less than 5 documents\n",
    "# ngram_range=(1, 2) -> consider both single words and two-word phrases\n",
    "tfidf_vectorizer = TfidfVectorizer(stop_words='english', max_df=0.8, min_df=5, ngram_range=(1, 2))\n",
    "tfidf_matrix = tfidf_vectorizer.fit_transform(corpus)\n",
    "\n",
    "\n",
    "print(f\"TF-IDF matrix shape: {tfidf_matrix.shape}\") # (number of games, number of features/terms)"
   ]
  },
  {
   "cell_type": "markdown",
   "metadata": {},
   "source": [
    "Computes the pairwise similarity between all games based on their TF-IDF vectors.\n",
    "\n",
    "What is Cosine Simlarity?\n",
    "\n",
    "It's the cosine of the angle between two non-zero vectors. Its highly effective for texts due to the high dimensions (TF-IDF results) and focuses on the orientation (content) rather than the magnitude (length of description)."
   ]
  },
  {
   "cell_type": "code",
   "execution_count": 6,
   "metadata": {},
   "outputs": [
    {
     "name": "stdout",
     "output_type": "stream",
     "text": [
      "Cosine similarity matrix shape: (22105, 22105)\n"
     ]
    }
   ],
   "source": [
    "cosine_sim_matrix = cosine_similarity(tfidf_matrix, tfidf_matrix) # Compute cosine similarity matrix\n",
    "print(f\"Cosine similarity matrix shape: {cosine_sim_matrix.shape}\")"
   ]
  },
  {
   "cell_type": "markdown",
   "id": "fc32265b",
   "metadata": {},
   "source": [
    "## The TFIDF function\n",
    "Function to take in a game title as input and return 10 most similar games based on cosine similarity."
   ]
  },
  {
   "cell_type": "code",
   "execution_count": 7,
   "metadata": {},
   "outputs": [],
   "source": [
    "def get_tfidf_recommendations(title, cosine_sim=cosine_sim_matrix, data_indices=indices, data_df=df):\n",
    "    \"\"\"\n",
    "    Gets game recommendations based on TF-IDF cosine similarity.\n",
    "\n",
    "    Args:\n",
    "        title (str): The title of the game to find recommendations for.\n",
    "        cosine_sim (np.ndarray): The precomputed cosine similarity matrix.\n",
    "        data_indices (pd.Series): Series mapping game titles to their index.\n",
    "        data_df (pd.DataFrame): The original dataframe to get game names from index.\n",
    "\n",
    "    Returns:\n",
    "        list: A list of recommended game titles, or None if title not found.\n",
    "    \"\"\"\n",
    "    if title not in data_indices:\n",
    "        print(f\"Error: Game '{title}' not found in the dataset.\")\n",
    "        # Try finding partial matches\n",
    "        possible_matches = [name for name in data_indices.index if title.lower() in name.lower()]\n",
    "        print(f\"Finding similar games for: {possible_matches[0]} instead as '{title}' was not found.\")\n",
    "        title = possible_matches[0] if possible_matches else None\n",
    "        if not title:\n",
    "            return None\n",
    "        \n",
    "    idx = data_indices[title] # Get the index of the game in the DataFrame\n",
    "\n",
    "    # Get the pairwise similarity scores of all games with that game\n",
    "    # enumerate adds a counter to the iterable, list converts it to a list of (index, score) tuples\n",
    "    sim_scores = list(enumerate(cosine_sim[idx]))\n",
    "\n",
    "    # Sort the games based on the similarity scores (descending order)\n",
    "    sim_scores = sorted(sim_scores, key=lambda x: x[1], reverse=True)\n",
    "\n",
    "    # Get the scores of the 10 most similar games (excluding the game itself, which is index 0 after sorting)\n",
    "    sim_scores = sim_scores[1:11]\n",
    "\n",
    "    # Get the game indices from the (index, score) tuples\n",
    "    game_indices = [i[0] for i in sim_scores]\n",
    "\n",
    "    # Return the titles of the top 10 most similar games\n",
    "    return [(data_df['Name'].iloc[i], score) for i, score in sim_scores]"
   ]
  },
  {
   "cell_type": "markdown",
   "metadata": {},
   "source": [
    "### Model 2: K-Nearest Neighbors (KNN) on Combined Features"
   ]
  },
  {
   "cell_type": "code",
   "execution_count": 8,
   "metadata": {},
   "outputs": [],
   "source": [
    "tfidf_features = tfidf_matrix # Reuse the TF-IDF matrix as features for KNN"
   ]
  },
  {
   "cell_type": "markdown",
   "metadata": {},
   "source": [
    "Numerical Features (Potentially relevant Features like popularity, rating, age, playtime)"
   ]
  },
  {
   "cell_type": "code",
   "execution_count": 9,
   "metadata": {},
   "outputs": [],
   "source": [
    "numerical_cols = [\n",
    "    'Log Peak CCU', 'Review Ratio', 'Game Age (Days)',\n",
    "    'Log Median playtime forever', 'Log Achievements', 'Log DLC count',\n",
    "    'Num Languages'\n",
    "]"
   ]
  },
  {
   "cell_type": "markdown",
   "metadata": {},
   "source": [
    "Handle NaN values in case still have"
   ]
  },
  {
   "cell_type": "code",
   "execution_count": 10,
   "metadata": {},
   "outputs": [],
   "source": [
    "df[numerical_cols] = df[numerical_cols].fillna(0).replace([np.inf, -np.inf], 0)\n",
    "numerical_features_raw = df[numerical_cols].values"
   ]
  },
  {
   "cell_type": "markdown",
   "metadata": {},
   "source": [
    "Categorical Features (One-Hot Encoded Tags, Genres, Categories)"
   ]
  },
  {
   "cell_type": "code",
   "execution_count": 11,
   "metadata": {},
   "outputs": [],
   "source": [
    "tag_cols = [col for col in df.columns if col.startswith('Tags_')]\n",
    "genre_cols = [col for col in df.columns if col.startswith('Genres_')]\n",
    "category_cols = [col for col in df.columns if col.startswith('Categories_')]\n",
    "\n",
    "# Combine all one-hot encoded features\n",
    "categorical_features = df[tag_cols + genre_cols + category_cols].values"
   ]
  },
  {
   "cell_type": "markdown",
   "metadata": {},
   "source": [
    "Convert dense categorical features to sparse matrix format for efficient combination\n",
    "\n",
    "What is Spare matrix?\n",
    "\n",
    "Spare matrix store only non-zero values, to save memory and speed up computations"
   ]
  },
  {
   "cell_type": "code",
   "execution_count": 12,
   "metadata": {},
   "outputs": [],
   "source": [
    "categorical_features_sparse = csr_matrix(categorical_features)"
   ]
  },
  {
   "cell_type": "markdown",
   "metadata": {},
   "source": [
    "Training the KNN model\n",
    "\n",
    "We initialize and fit a NearestNeighbors model from scikit-learn.\n",
    "\n",
    "StandardScaler: Scales to zero mean and unit variance (good if data is normally distributed)\n",
    "\n",
    "MinMaxScaler: Scales to a range [0, 1] (good if data isn't normally distributed or for distance metrics)\n",
    "\n",
    "Since we found that our data was very right-skewed, we use MinMaxScaler here"
   ]
  },
  {
   "cell_type": "code",
   "execution_count": 13,
   "metadata": {},
   "outputs": [],
   "source": [
    "scaler = MinMaxScaler()\n",
    "numerical_features_scaled = scaler.fit_transform(numerical_features_raw)\n"
   ]
  },
  {
   "cell_type": "markdown",
   "metadata": {},
   "source": [
    "Convert scaled numerical features to sparse matrix format again"
   ]
  },
  {
   "cell_type": "code",
   "execution_count": 14,
   "metadata": {},
   "outputs": [],
   "source": [
    "numerical_features_scaled_sparse = csr_matrix(numerical_features_scaled)"
   ]
  },
  {
   "cell_type": "markdown",
   "metadata": {},
   "source": [
    "Combine TF-IDF, numerical, and categorical features into a single sparse matrix"
   ]
  },
  {
   "cell_type": "code",
   "execution_count": 15,
   "metadata": {},
   "outputs": [
    {
     "name": "stdout",
     "output_type": "stream",
     "text": [
      "Combined features matrix shape: (22105, 90063)\n",
      "Feature breakdown: TF-IDF (89540), Scaled Numerical (7), One-Hot Categorical (516)\n"
     ]
    }
   ],
   "source": [
    "combined_features = hstack([\n",
    "    tfidf_features,\n",
    "    numerical_features_scaled_sparse,\n",
    "    categorical_features_sparse\n",
    "]) \n",
    "\n",
    "print(f\"Combined features matrix shape: {combined_features.shape}\")\n",
    "print(f\"Feature breakdown: TF-IDF ({tfidf_features.shape[1]}), Scaled Numerical ({numerical_features_scaled_sparse.shape[1]}), One-Hot Categorical ({categorical_features_sparse.shape[1]})\")"
   ]
  },
  {
   "cell_type": "markdown",
   "metadata": {},
   "source": [
    "We want 11 neighbors (1 self + 10 recommendations)\n",
    "\n",
    "'cosine' metric is often good for high-dimensional, sparse data like this\n",
    "\n",
    "'brute' algorithm checks all points, suitable for sparse data"
   ]
  },
  {
   "cell_type": "code",
   "execution_count": 16,
   "metadata": {},
   "outputs": [
    {
     "data": {
      "text/html": [
       "<style>#sk-container-id-1 {\n",
       "  /* Definition of color scheme common for light and dark mode */\n",
       "  --sklearn-color-text: #000;\n",
       "  --sklearn-color-text-muted: #666;\n",
       "  --sklearn-color-line: gray;\n",
       "  /* Definition of color scheme for unfitted estimators */\n",
       "  --sklearn-color-unfitted-level-0: #fff5e6;\n",
       "  --sklearn-color-unfitted-level-1: #f6e4d2;\n",
       "  --sklearn-color-unfitted-level-2: #ffe0b3;\n",
       "  --sklearn-color-unfitted-level-3: chocolate;\n",
       "  /* Definition of color scheme for fitted estimators */\n",
       "  --sklearn-color-fitted-level-0: #f0f8ff;\n",
       "  --sklearn-color-fitted-level-1: #d4ebff;\n",
       "  --sklearn-color-fitted-level-2: #b3dbfd;\n",
       "  --sklearn-color-fitted-level-3: cornflowerblue;\n",
       "\n",
       "  /* Specific color for light theme */\n",
       "  --sklearn-color-text-on-default-background: var(--sg-text-color, var(--theme-code-foreground, var(--jp-content-font-color1, black)));\n",
       "  --sklearn-color-background: var(--sg-background-color, var(--theme-background, var(--jp-layout-color0, white)));\n",
       "  --sklearn-color-border-box: var(--sg-text-color, var(--theme-code-foreground, var(--jp-content-font-color1, black)));\n",
       "  --sklearn-color-icon: #696969;\n",
       "\n",
       "  @media (prefers-color-scheme: dark) {\n",
       "    /* Redefinition of color scheme for dark theme */\n",
       "    --sklearn-color-text-on-default-background: var(--sg-text-color, var(--theme-code-foreground, var(--jp-content-font-color1, white)));\n",
       "    --sklearn-color-background: var(--sg-background-color, var(--theme-background, var(--jp-layout-color0, #111)));\n",
       "    --sklearn-color-border-box: var(--sg-text-color, var(--theme-code-foreground, var(--jp-content-font-color1, white)));\n",
       "    --sklearn-color-icon: #878787;\n",
       "  }\n",
       "}\n",
       "\n",
       "#sk-container-id-1 {\n",
       "  color: var(--sklearn-color-text);\n",
       "}\n",
       "\n",
       "#sk-container-id-1 pre {\n",
       "  padding: 0;\n",
       "}\n",
       "\n",
       "#sk-container-id-1 input.sk-hidden--visually {\n",
       "  border: 0;\n",
       "  clip: rect(1px 1px 1px 1px);\n",
       "  clip: rect(1px, 1px, 1px, 1px);\n",
       "  height: 1px;\n",
       "  margin: -1px;\n",
       "  overflow: hidden;\n",
       "  padding: 0;\n",
       "  position: absolute;\n",
       "  width: 1px;\n",
       "}\n",
       "\n",
       "#sk-container-id-1 div.sk-dashed-wrapped {\n",
       "  border: 1px dashed var(--sklearn-color-line);\n",
       "  margin: 0 0.4em 0.5em 0.4em;\n",
       "  box-sizing: border-box;\n",
       "  padding-bottom: 0.4em;\n",
       "  background-color: var(--sklearn-color-background);\n",
       "}\n",
       "\n",
       "#sk-container-id-1 div.sk-container {\n",
       "  /* jupyter's `normalize.less` sets `[hidden] { display: none; }`\n",
       "     but bootstrap.min.css set `[hidden] { display: none !important; }`\n",
       "     so we also need the `!important` here to be able to override the\n",
       "     default hidden behavior on the sphinx rendered scikit-learn.org.\n",
       "     See: https://github.com/scikit-learn/scikit-learn/issues/21755 */\n",
       "  display: inline-block !important;\n",
       "  position: relative;\n",
       "}\n",
       "\n",
       "#sk-container-id-1 div.sk-text-repr-fallback {\n",
       "  display: none;\n",
       "}\n",
       "\n",
       "div.sk-parallel-item,\n",
       "div.sk-serial,\n",
       "div.sk-item {\n",
       "  /* draw centered vertical line to link estimators */\n",
       "  background-image: linear-gradient(var(--sklearn-color-text-on-default-background), var(--sklearn-color-text-on-default-background));\n",
       "  background-size: 2px 100%;\n",
       "  background-repeat: no-repeat;\n",
       "  background-position: center center;\n",
       "}\n",
       "\n",
       "/* Parallel-specific style estimator block */\n",
       "\n",
       "#sk-container-id-1 div.sk-parallel-item::after {\n",
       "  content: \"\";\n",
       "  width: 100%;\n",
       "  border-bottom: 2px solid var(--sklearn-color-text-on-default-background);\n",
       "  flex-grow: 1;\n",
       "}\n",
       "\n",
       "#sk-container-id-1 div.sk-parallel {\n",
       "  display: flex;\n",
       "  align-items: stretch;\n",
       "  justify-content: center;\n",
       "  background-color: var(--sklearn-color-background);\n",
       "  position: relative;\n",
       "}\n",
       "\n",
       "#sk-container-id-1 div.sk-parallel-item {\n",
       "  display: flex;\n",
       "  flex-direction: column;\n",
       "}\n",
       "\n",
       "#sk-container-id-1 div.sk-parallel-item:first-child::after {\n",
       "  align-self: flex-end;\n",
       "  width: 50%;\n",
       "}\n",
       "\n",
       "#sk-container-id-1 div.sk-parallel-item:last-child::after {\n",
       "  align-self: flex-start;\n",
       "  width: 50%;\n",
       "}\n",
       "\n",
       "#sk-container-id-1 div.sk-parallel-item:only-child::after {\n",
       "  width: 0;\n",
       "}\n",
       "\n",
       "/* Serial-specific style estimator block */\n",
       "\n",
       "#sk-container-id-1 div.sk-serial {\n",
       "  display: flex;\n",
       "  flex-direction: column;\n",
       "  align-items: center;\n",
       "  background-color: var(--sklearn-color-background);\n",
       "  padding-right: 1em;\n",
       "  padding-left: 1em;\n",
       "}\n",
       "\n",
       "\n",
       "/* Toggleable style: style used for estimator/Pipeline/ColumnTransformer box that is\n",
       "clickable and can be expanded/collapsed.\n",
       "- Pipeline and ColumnTransformer use this feature and define the default style\n",
       "- Estimators will overwrite some part of the style using the `sk-estimator` class\n",
       "*/\n",
       "\n",
       "/* Pipeline and ColumnTransformer style (default) */\n",
       "\n",
       "#sk-container-id-1 div.sk-toggleable {\n",
       "  /* Default theme specific background. It is overwritten whether we have a\n",
       "  specific estimator or a Pipeline/ColumnTransformer */\n",
       "  background-color: var(--sklearn-color-background);\n",
       "}\n",
       "\n",
       "/* Toggleable label */\n",
       "#sk-container-id-1 label.sk-toggleable__label {\n",
       "  cursor: pointer;\n",
       "  display: flex;\n",
       "  width: 100%;\n",
       "  margin-bottom: 0;\n",
       "  padding: 0.5em;\n",
       "  box-sizing: border-box;\n",
       "  text-align: center;\n",
       "  align-items: start;\n",
       "  justify-content: space-between;\n",
       "  gap: 0.5em;\n",
       "}\n",
       "\n",
       "#sk-container-id-1 label.sk-toggleable__label .caption {\n",
       "  font-size: 0.6rem;\n",
       "  font-weight: lighter;\n",
       "  color: var(--sklearn-color-text-muted);\n",
       "}\n",
       "\n",
       "#sk-container-id-1 label.sk-toggleable__label-arrow:before {\n",
       "  /* Arrow on the left of the label */\n",
       "  content: \"▸\";\n",
       "  float: left;\n",
       "  margin-right: 0.25em;\n",
       "  color: var(--sklearn-color-icon);\n",
       "}\n",
       "\n",
       "#sk-container-id-1 label.sk-toggleable__label-arrow:hover:before {\n",
       "  color: var(--sklearn-color-text);\n",
       "}\n",
       "\n",
       "/* Toggleable content - dropdown */\n",
       "\n",
       "#sk-container-id-1 div.sk-toggleable__content {\n",
       "  max-height: 0;\n",
       "  max-width: 0;\n",
       "  overflow: hidden;\n",
       "  text-align: left;\n",
       "  /* unfitted */\n",
       "  background-color: var(--sklearn-color-unfitted-level-0);\n",
       "}\n",
       "\n",
       "#sk-container-id-1 div.sk-toggleable__content.fitted {\n",
       "  /* fitted */\n",
       "  background-color: var(--sklearn-color-fitted-level-0);\n",
       "}\n",
       "\n",
       "#sk-container-id-1 div.sk-toggleable__content pre {\n",
       "  margin: 0.2em;\n",
       "  border-radius: 0.25em;\n",
       "  color: var(--sklearn-color-text);\n",
       "  /* unfitted */\n",
       "  background-color: var(--sklearn-color-unfitted-level-0);\n",
       "}\n",
       "\n",
       "#sk-container-id-1 div.sk-toggleable__content.fitted pre {\n",
       "  /* unfitted */\n",
       "  background-color: var(--sklearn-color-fitted-level-0);\n",
       "}\n",
       "\n",
       "#sk-container-id-1 input.sk-toggleable__control:checked~div.sk-toggleable__content {\n",
       "  /* Expand drop-down */\n",
       "  max-height: 200px;\n",
       "  max-width: 100%;\n",
       "  overflow: auto;\n",
       "}\n",
       "\n",
       "#sk-container-id-1 input.sk-toggleable__control:checked~label.sk-toggleable__label-arrow:before {\n",
       "  content: \"▾\";\n",
       "}\n",
       "\n",
       "/* Pipeline/ColumnTransformer-specific style */\n",
       "\n",
       "#sk-container-id-1 div.sk-label input.sk-toggleable__control:checked~label.sk-toggleable__label {\n",
       "  color: var(--sklearn-color-text);\n",
       "  background-color: var(--sklearn-color-unfitted-level-2);\n",
       "}\n",
       "\n",
       "#sk-container-id-1 div.sk-label.fitted input.sk-toggleable__control:checked~label.sk-toggleable__label {\n",
       "  background-color: var(--sklearn-color-fitted-level-2);\n",
       "}\n",
       "\n",
       "/* Estimator-specific style */\n",
       "\n",
       "/* Colorize estimator box */\n",
       "#sk-container-id-1 div.sk-estimator input.sk-toggleable__control:checked~label.sk-toggleable__label {\n",
       "  /* unfitted */\n",
       "  background-color: var(--sklearn-color-unfitted-level-2);\n",
       "}\n",
       "\n",
       "#sk-container-id-1 div.sk-estimator.fitted input.sk-toggleable__control:checked~label.sk-toggleable__label {\n",
       "  /* fitted */\n",
       "  background-color: var(--sklearn-color-fitted-level-2);\n",
       "}\n",
       "\n",
       "#sk-container-id-1 div.sk-label label.sk-toggleable__label,\n",
       "#sk-container-id-1 div.sk-label label {\n",
       "  /* The background is the default theme color */\n",
       "  color: var(--sklearn-color-text-on-default-background);\n",
       "}\n",
       "\n",
       "/* On hover, darken the color of the background */\n",
       "#sk-container-id-1 div.sk-label:hover label.sk-toggleable__label {\n",
       "  color: var(--sklearn-color-text);\n",
       "  background-color: var(--sklearn-color-unfitted-level-2);\n",
       "}\n",
       "\n",
       "/* Label box, darken color on hover, fitted */\n",
       "#sk-container-id-1 div.sk-label.fitted:hover label.sk-toggleable__label.fitted {\n",
       "  color: var(--sklearn-color-text);\n",
       "  background-color: var(--sklearn-color-fitted-level-2);\n",
       "}\n",
       "\n",
       "/* Estimator label */\n",
       "\n",
       "#sk-container-id-1 div.sk-label label {\n",
       "  font-family: monospace;\n",
       "  font-weight: bold;\n",
       "  display: inline-block;\n",
       "  line-height: 1.2em;\n",
       "}\n",
       "\n",
       "#sk-container-id-1 div.sk-label-container {\n",
       "  text-align: center;\n",
       "}\n",
       "\n",
       "/* Estimator-specific */\n",
       "#sk-container-id-1 div.sk-estimator {\n",
       "  font-family: monospace;\n",
       "  border: 1px dotted var(--sklearn-color-border-box);\n",
       "  border-radius: 0.25em;\n",
       "  box-sizing: border-box;\n",
       "  margin-bottom: 0.5em;\n",
       "  /* unfitted */\n",
       "  background-color: var(--sklearn-color-unfitted-level-0);\n",
       "}\n",
       "\n",
       "#sk-container-id-1 div.sk-estimator.fitted {\n",
       "  /* fitted */\n",
       "  background-color: var(--sklearn-color-fitted-level-0);\n",
       "}\n",
       "\n",
       "/* on hover */\n",
       "#sk-container-id-1 div.sk-estimator:hover {\n",
       "  /* unfitted */\n",
       "  background-color: var(--sklearn-color-unfitted-level-2);\n",
       "}\n",
       "\n",
       "#sk-container-id-1 div.sk-estimator.fitted:hover {\n",
       "  /* fitted */\n",
       "  background-color: var(--sklearn-color-fitted-level-2);\n",
       "}\n",
       "\n",
       "/* Specification for estimator info (e.g. \"i\" and \"?\") */\n",
       "\n",
       "/* Common style for \"i\" and \"?\" */\n",
       "\n",
       ".sk-estimator-doc-link,\n",
       "a:link.sk-estimator-doc-link,\n",
       "a:visited.sk-estimator-doc-link {\n",
       "  float: right;\n",
       "  font-size: smaller;\n",
       "  line-height: 1em;\n",
       "  font-family: monospace;\n",
       "  background-color: var(--sklearn-color-background);\n",
       "  border-radius: 1em;\n",
       "  height: 1em;\n",
       "  width: 1em;\n",
       "  text-decoration: none !important;\n",
       "  margin-left: 0.5em;\n",
       "  text-align: center;\n",
       "  /* unfitted */\n",
       "  border: var(--sklearn-color-unfitted-level-1) 1pt solid;\n",
       "  color: var(--sklearn-color-unfitted-level-1);\n",
       "}\n",
       "\n",
       ".sk-estimator-doc-link.fitted,\n",
       "a:link.sk-estimator-doc-link.fitted,\n",
       "a:visited.sk-estimator-doc-link.fitted {\n",
       "  /* fitted */\n",
       "  border: var(--sklearn-color-fitted-level-1) 1pt solid;\n",
       "  color: var(--sklearn-color-fitted-level-1);\n",
       "}\n",
       "\n",
       "/* On hover */\n",
       "div.sk-estimator:hover .sk-estimator-doc-link:hover,\n",
       ".sk-estimator-doc-link:hover,\n",
       "div.sk-label-container:hover .sk-estimator-doc-link:hover,\n",
       ".sk-estimator-doc-link:hover {\n",
       "  /* unfitted */\n",
       "  background-color: var(--sklearn-color-unfitted-level-3);\n",
       "  color: var(--sklearn-color-background);\n",
       "  text-decoration: none;\n",
       "}\n",
       "\n",
       "div.sk-estimator.fitted:hover .sk-estimator-doc-link.fitted:hover,\n",
       ".sk-estimator-doc-link.fitted:hover,\n",
       "div.sk-label-container:hover .sk-estimator-doc-link.fitted:hover,\n",
       ".sk-estimator-doc-link.fitted:hover {\n",
       "  /* fitted */\n",
       "  background-color: var(--sklearn-color-fitted-level-3);\n",
       "  color: var(--sklearn-color-background);\n",
       "  text-decoration: none;\n",
       "}\n",
       "\n",
       "/* Span, style for the box shown on hovering the info icon */\n",
       ".sk-estimator-doc-link span {\n",
       "  display: none;\n",
       "  z-index: 9999;\n",
       "  position: relative;\n",
       "  font-weight: normal;\n",
       "  right: .2ex;\n",
       "  padding: .5ex;\n",
       "  margin: .5ex;\n",
       "  width: min-content;\n",
       "  min-width: 20ex;\n",
       "  max-width: 50ex;\n",
       "  color: var(--sklearn-color-text);\n",
       "  box-shadow: 2pt 2pt 4pt #999;\n",
       "  /* unfitted */\n",
       "  background: var(--sklearn-color-unfitted-level-0);\n",
       "  border: .5pt solid var(--sklearn-color-unfitted-level-3);\n",
       "}\n",
       "\n",
       ".sk-estimator-doc-link.fitted span {\n",
       "  /* fitted */\n",
       "  background: var(--sklearn-color-fitted-level-0);\n",
       "  border: var(--sklearn-color-fitted-level-3);\n",
       "}\n",
       "\n",
       ".sk-estimator-doc-link:hover span {\n",
       "  display: block;\n",
       "}\n",
       "\n",
       "/* \"?\"-specific style due to the `<a>` HTML tag */\n",
       "\n",
       "#sk-container-id-1 a.estimator_doc_link {\n",
       "  float: right;\n",
       "  font-size: 1rem;\n",
       "  line-height: 1em;\n",
       "  font-family: monospace;\n",
       "  background-color: var(--sklearn-color-background);\n",
       "  border-radius: 1rem;\n",
       "  height: 1rem;\n",
       "  width: 1rem;\n",
       "  text-decoration: none;\n",
       "  /* unfitted */\n",
       "  color: var(--sklearn-color-unfitted-level-1);\n",
       "  border: var(--sklearn-color-unfitted-level-1) 1pt solid;\n",
       "}\n",
       "\n",
       "#sk-container-id-1 a.estimator_doc_link.fitted {\n",
       "  /* fitted */\n",
       "  border: var(--sklearn-color-fitted-level-1) 1pt solid;\n",
       "  color: var(--sklearn-color-fitted-level-1);\n",
       "}\n",
       "\n",
       "/* On hover */\n",
       "#sk-container-id-1 a.estimator_doc_link:hover {\n",
       "  /* unfitted */\n",
       "  background-color: var(--sklearn-color-unfitted-level-3);\n",
       "  color: var(--sklearn-color-background);\n",
       "  text-decoration: none;\n",
       "}\n",
       "\n",
       "#sk-container-id-1 a.estimator_doc_link.fitted:hover {\n",
       "  /* fitted */\n",
       "  background-color: var(--sklearn-color-fitted-level-3);\n",
       "}\n",
       "</style><div id=\"sk-container-id-1\" class=\"sk-top-container\"><div class=\"sk-text-repr-fallback\"><pre>NearestNeighbors(algorithm=&#x27;brute&#x27;, metric=&#x27;cosine&#x27;, n_jobs=-1, n_neighbors=11)</pre><b>In a Jupyter environment, please rerun this cell to show the HTML representation or trust the notebook. <br />On GitHub, the HTML representation is unable to render, please try loading this page with nbviewer.org.</b></div><div class=\"sk-container\" hidden><div class=\"sk-item\"><div class=\"sk-estimator fitted sk-toggleable\"><input class=\"sk-toggleable__control sk-hidden--visually\" id=\"sk-estimator-id-1\" type=\"checkbox\" checked><label for=\"sk-estimator-id-1\" class=\"sk-toggleable__label fitted sk-toggleable__label-arrow\"><div><div>NearestNeighbors</div></div><div><a class=\"sk-estimator-doc-link fitted\" rel=\"noreferrer\" target=\"_blank\" href=\"https://scikit-learn.org/1.6/modules/generated/sklearn.neighbors.NearestNeighbors.html\">?<span>Documentation for NearestNeighbors</span></a><span class=\"sk-estimator-doc-link fitted\">i<span>Fitted</span></span></div></label><div class=\"sk-toggleable__content fitted\"><pre>NearestNeighbors(algorithm=&#x27;brute&#x27;, metric=&#x27;cosine&#x27;, n_jobs=-1, n_neighbors=11)</pre></div> </div></div></div></div>"
      ],
      "text/plain": [
       "NearestNeighbors(algorithm='brute', metric='cosine', n_jobs=-1, n_neighbors=11)"
      ]
     },
     "execution_count": 16,
     "metadata": {},
     "output_type": "execute_result"
    }
   ],
   "source": [
    "knn_model = NearestNeighbors(n_neighbors=11, metric='cosine', algorithm='brute', n_jobs=-1)\n",
    "knn_model.fit(combined_features)"
   ]
  },
  {
   "cell_type": "markdown",
   "id": "ec958bd9",
   "metadata": {},
   "source": [
    "## The KNN Function"
   ]
  },
  {
   "cell_type": "code",
   "execution_count": null,
   "metadata": {},
   "outputs": [],
   "source": [
    "def get_knn_recommendations(title, model=knn_model, features=combined_features, data_indices=indices, data_df=df):\n",
    "    \"\"\"\n",
    "    Gets game recommendations based on KNN on combined features.\n",
    "\n",
    "    Args:\n",
    "        title (str): The name of the game to get recommendations for.\n",
    "        model (NearestNeighbors): The fitted KNN model.\n",
    "        features (csr_matrix): The combined feature matrix used for fitting KNN.\n",
    "        data_indices (pd.Series): Series mapping game titles to their index.\n",
    "        data_df (pd.DataFrame): The original dataframe to get game names from index.\n",
    "\n",
    "    Returns:\n",
    "        list: A list of recommended game titles, or None if title not found.\n",
    "    \"\"\"\n",
    "    if title not in data_indices:\n",
    "        print(f\"Error: Game '{title}' not found in the dataset.\")\n",
    "        # Try finding partial matches\n",
    "        possible_matches = [name for name in data_indices.index if title.lower() in name.lower()]\n",
    "        print(f\"Finding similar games for: {possible_matches[0]} instead as '{title}' was not found.\")\n",
    "        title = possible_matches[0] if possible_matches else None\n",
    "        if not title:\n",
    "            return None\n",
    "\n",
    "    # Get the index of the game\n",
    "    idx = data_indices[title]\n",
    "\n",
    "    # Get the feature vector for the target game\n",
    "    query_vector = features[idx]\n",
    "\n",
    "    # Find the nearest neighbors\n",
    "    # distances: distance values of neighbors\n",
    "    # indices_knn: indices of neighbors in the original dataset\n",
    "    distances, indices_knn = model.kneighbors(query_vector)\n",
    "    \n",
    "\n",
    "    # The first index (indices_knn[0][0]) is the game itself. Exclude it.\n",
    "    neighbor_indices = indices_knn[0][1:]\n",
    "    neighbor_distances = distances[0][1:]\n",
    "\n",
    "    # Return the names of the recommended games and their similarity scores\n",
    "    return [(data_df['Name'].iloc[i], 1 - d)  # 1‑distance → “cosine‑like” similarity\n",
    "            for i, d in zip(neighbor_indices, neighbor_distances)]"
   ]
  },
  {
   "cell_type": "markdown",
   "id": "b1874519",
   "metadata": {},
   "source": [
    "Main Loop to try out the model"
   ]
  },
  {
   "cell_type": "code",
   "execution_count": 22,
   "metadata": {},
   "outputs": [
    {
     "name": "stdout",
     "output_type": "stream",
     "text": [
      "\n",
      "--- Recommendations for 'Terraria' ---\n",
      "\n",
      "Model 1 (TF-IDF + Cosine Similarity) Recommendations:\n",
      " 1. STERN                                               (0.159)\n",
      " 2. Vagabond                                            (0.124)\n",
      " 3. Realmcraft VR                                       (0.097)\n",
      " 4. Darkout                                             (0.097)\n",
      " 5. Forsaken Isle                                       (0.093)\n",
      " 6. Fractured Online                                    (0.085)\n",
      " 7. Wizards and Warlords                                (0.085)\n",
      " 8. The Mole Men                                        (0.083)\n",
      " 9. Drive 4 Survival                                    (0.081)\n",
      "10. The Sandbox Evolution - Craft a 2D Pixel Universe!  (0.080)\n",
      "\n",
      "Model 2 (KNN on Combined Features) Recommendations:\n",
      " 1. Niffelheim                                          (0.789)\n",
      " 2. Starbound                                           (0.785)\n",
      " 3. Crea                                                (0.774)\n",
      " 4. Conan Exiles                                        (0.762)\n",
      " 5. Necesse                                             (0.757)\n",
      " 6. Tinkertown                                          (0.756)\n",
      " 7. Dig or Die                                          (0.749)\n",
      " 8. Valheim                                             (0.735)\n",
      " 9. Signs of Life                                       (0.734)\n",
      "10. DRAGON QUEST BUILDERS™ 2                            (0.731)\n"
     ]
    }
   ],
   "source": [
    "target_game = 'Terraria'\n",
    "\n",
    "print(f\"\\n--- Recommendations for '{target_game}' ---\")\n",
    "\n",
    "# Model 1: TF-IDF + Cosine Similarity\n",
    "print(\"\\nModel 1 (TF-IDF + Cosine Similarity) Recommendations:\")\n",
    "for rank, (name, score) in enumerate(get_tfidf_recommendations(target_game), 1):\n",
    "    print(f\"{rank:2}. {name:50}  ({score:.3f})\")\n",
    "\n",
    "# Model 2: KNN on Combined Features\n",
    "print(\"\\nModel 2 (KNN on Combined Features) Recommendations:\")\n",
    "for rank, (name, score) in enumerate(get_knn_recommendations(target_game), 1):\n",
    "    print(f\"{rank:2}. {name:50}  ({score:.3f})\")"
   ]
  },
  {
   "cell_type": "markdown",
   "id": "3fa779a7",
   "metadata": {},
   "source": [
    "## Evaluation\n",
    "\n",
    "--- Recommendations for 'Terraria' ---\n",
    "\n",
    "Model 1 (TF-IDF + Cosine Similarity) Recommendations:\n",
    " 1. STERN                                               (0.159)\n",
    " 2. Vagabond                                            (0.124)\n",
    " 3. Realmcraft VR                                       (0.097)\n",
    " 4. Darkout                                             (0.097)\n",
    " 5. Forsaken Isle                                       (0.093)\n",
    " 6. Fractured Online                                    (0.085)\n",
    " 7. Wizards and Warlords                                (0.085)\n",
    " 8. The Mole Men                                        (0.083)\n",
    " 9. Drive 4 Survival                                    (0.081)\n",
    "10. The Sandbox Evolution - Craft a 2D Pixel Universe!  (0.080)\n",
    "\n",
    "Model 2 (KNN on Combined Features) Recommendations:\n",
    " 1. Niffelheim                                          (0.789)\n",
    " 2. Starbound                                           (0.785)\n",
    " 3. Crea                                                (0.774)\n",
    " 4. Conan Exiles                                        (0.762)\n",
    " 5. Necesse                                             (0.757)\n",
    " 6. Tinkertown                                          (0.756)\n",
    " 7. Dig or Die                                          (0.749)\n",
    " 8. Valheim                                             (0.735)\n",
    " 9. Signs of Life                                       (0.734)\n",
    "10. DRAGON QUEST BUILDERS™ 2                            (0.731)\n",
    "\n",
    "Model 1: TF-IDF + Cosine Similarity (Description)\n",
    "\n",
    "Low Similarity scores, in cosine similarity, 1 represents identical.  In our model, the model actual return quite low values. Indicating that purely based on text descriptions processed by TF-IDF, none of the games were highly similar to Terraria.\n",
    "\n",
    "Although not to put it off, there is potential for some relation, like the \"Sandbox Evolution\" game hints at a sandbox style game, and \"Darkout\" is survival/exploration game that is similar to Terraria.\n",
    "\n",
    "Overall, we find that the model struggles to find strong matches based solely on \"About the game\" text. The core appeal may be better captured in the tags, genres and gameplay mechanics which aren't fully represented by the description, or similar games don't use overlapping categories for TF-IDF to score them highly. The recommendations become less focused due to this and potentially include more obscure, less related titles.\n",
    "\n",
    "Model 2: KNN on Combined Features (Text, metadata, categories)\n",
    "\n",
    "High similarity scores, unlike the first model, the scores were quite high, ranging 0.731 to 0.789 for terraria, showing higher degree of similarity based on the combined features.\n",
    "\n",
    "The list of games were also quite relevant overall\n",
    "\n",
    "Starbound: Often called terraria in space\n",
    "\n",
    "Crea, Necesse, Tinkertown, Dig or Die, Signs of Life: 2D sandbox around crafting, survival, exploration\n",
    "\n",
    "Valheim, Conan Exiles: Is 3D but highly popular survival/crafting game around gathering, building, fighting and exploring.\n",
    "\n",
    "DRAGON QUEST BUILDERS™ 2: Block RPG with crafting and sandbox elements\n",
    "\n",
    "Overall, the model provided quite highly relevant recommendations. The inclusion of numerical features (like popularity, playtime), categorical (tags, genres) and text descriptions allowed the KNN to identify games similar in playstyle, genre and potentially player reception, even if the text descriptions don't perfectly describe the game."
   ]
  },
  {
   "cell_type": "markdown",
   "id": "def871b8",
   "metadata": {},
   "source": [
    "## Conclusion\n",
    "Terraria is a game strongly tied to the genre (sandbox, survival, crafting) and core mechanics on top of just descriptions. Model 2 provided a significantly more relevant and intuitive recommendations based on this info.\n",
    "\n",
    "Low scores in Model 1 suggest text descriptions often miss games that are functionally similar but described differently. Model 2 was more successfully in this case due to deploying a hybrid approach, and making use of the categorical tags/genres and numerical metadata to capture the aspects of similarity that the text alone don't. The features identified in EDA (tags, genres, popularity metrics) seemed crucial in finding good recommendations for this problem."
   ]
  }
 ],
 "metadata": {
  "kernelspec": {
   "display_name": "Python 3",
   "language": "python",
   "name": "python3"
  },
  "language_info": {
   "codemirror_mode": {
    "name": "ipython",
    "version": 3
   },
   "file_extension": ".py",
   "mimetype": "text/x-python",
   "name": "python",
   "nbconvert_exporter": "python",
   "pygments_lexer": "ipython3",
   "version": "3.10.11"
  }
 },
 "nbformat": 4,
 "nbformat_minor": 5
}
